{
 "cells": [
  {
   "cell_type": "markdown",
   "id": "7546f051",
   "metadata": {},
   "source": [
    "# TP 1 PHY3051 - Ajustement d'une droite à des données\n",
    "Ajuster une droite à des données est un peu le \"hello world\" de l'analyse de données.\n",
    "On peut donc faire un exemple simple aujourd'hui.\n",
    "\n",
    "## Simulation d'un jeu de données"
   ]
  },
  {
   "cell_type": "code",
   "execution_count": null,
   "id": "0996d94c",
   "metadata": {},
   "outputs": [],
   "source": [
    "import matplotlib.pyplot as plt\n",
    "import numpy as np\n",
    "from scipy.optimize import minimize"
   ]
  },
  {
   "cell_type": "code",
   "execution_count": null,
   "id": "cdfd2431",
   "metadata": {},
   "outputs": [],
   "source": [
    "# \"Nouvelle\" interface pour les nombres aléatoires avec Numpy\n",
    "rng = np.random.default_rng(seed=3051)"
   ]
  },
  {
   "cell_type": "code",
   "execution_count": null,
   "id": "3b77d1bf",
   "metadata": {},
   "outputs": [],
   "source": [
    "def linear_model(p: np.ndarray[float], x: np.ndarray[float]) -> np.ndarray[float]:\n",
    "    m, b = p\n",
    "    return m * x + b"
   ]
  },
  {
   "cell_type": "code",
   "execution_count": null,
   "id": "8e5f9fff",
   "metadata": {},
   "outputs": [],
   "source": [
    "N = 100\n",
    "m_true, b_true = 6, 2\n",
    "p_true = np.array([m_true, b_true])\n",
    "noise_level = 2\n",
    "\n",
    "x = np.sort(rng.uniform(0, 10, size=N))\n",
    "y_true = linear_model(p_true, x)\n",
    "\n",
    "# Bruit gaussien indépendant avec barres d'erreur uniformes\n",
    "yerr = noise_level * np.ones_like(x)\n",
    "y = y_true + yerr * rng.standard_normal(N)\n",
    "\n",
    "plt.plot(x, y_true, label=\"True signal\")\n",
    "plt.errorbar(x, y, yerr=yerr, fmt=\"k.\", label=\"Data\")\n",
    "plt.xlabel(\"X\")\n",
    "plt.ylabel(\"Y\")\n",
    "plt.legend()\n",
    "plt.show()"
   ]
  },
  {
   "cell_type": "code",
   "execution_count": null,
   "id": "856f8519",
   "metadata": {
    "lines_to_next_cell": 1
   },
   "outputs": [],
   "source": [
    "def chi2_fun(\n",
    "    p: np.ndarray[float],\n",
    "    x: np.ndarray[float],\n",
    "    y: np.ndarray[float],\n",
    "    yerr: np.ndarray[float],\n",
    ") -> float:\n",
    "    y_mod = linear_model(p, x)\n",
    "    return np.sum((y - y_mod)**2 / yerr**2)"
   ]
  },
  {
   "cell_type": "code",
   "execution_count": null,
   "id": "42110ce3",
   "metadata": {},
   "outputs": [],
   "source": [
    "p_guess = np.array([5, 6])\n",
    "\n",
    "plt.plot(x, linear_model(p_guess, x), label=\"Initial guess\")\n",
    "plt.errorbar(x, y, yerr=yerr, fmt=\"k.\", label=\"Data\")\n",
    "plt.xlabel(\"X\")\n",
    "plt.ylabel(\"Y\")\n",
    "plt.legend()\n",
    "plt.show()"
   ]
  },
  {
   "cell_type": "code",
   "execution_count": null,
   "id": "c9af5d6c",
   "metadata": {},
   "outputs": [],
   "source": [
    "opt_res = minimize(chi2_fun, p_guess, args=(x, y, yerr))"
   ]
  },
  {
   "cell_type": "code",
   "execution_count": null,
   "id": "41f56334",
   "metadata": {},
   "outputs": [],
   "source": [
    "p_fit = opt_res.x\n",
    "best_mod = linear_model(p_fit, x)\n",
    "res = y - best_mod"
   ]
  },
  {
   "cell_type": "code",
   "execution_count": null,
   "id": "d3cd9352",
   "metadata": {},
   "outputs": [],
   "source": [
    "fig, axes = plt.subplots(2, 1, figsize=(8, 8), sharex=True, gridspec_kw={\"height_ratios\": (2, 1)})\n",
    "axes[0].plot(x, linear_model(p_guess, x), label=\"Initial guess\")\n",
    "axes[0].plot(x, best_mod, label=\"$\\chi^2$ Best Fit\")\n",
    "axes[0].errorbar(x, y, yerr=yerr, fmt=\"k.\", label=\"Data\")\n",
    "axes[0].set_ylabel(\"Y\")\n",
    "axes[0].legend()\n",
    "\n",
    "axes[1].errorbar(x, res, yerr=yerr, fmt=\"k.\")\n",
    "axes[1].set_ylabel(\"Residuals\")\n",
    "\n",
    "axes[-1].set_xlabel(\"X\")\n",
    "plt.show()"
   ]
  },
  {
   "cell_type": "code",
   "execution_count": null,
   "id": "c3d16cb6",
   "metadata": {},
   "outputs": [],
   "source": [
    "# Increase N pour voir mieux\n",
    "plt.hist(res)\n",
    "plt.show()"
   ]
  },
  {
   "cell_type": "code",
   "execution_count": null,
   "id": "43ccdc86",
   "metadata": {},
   "outputs": [],
   "source": [
    "# Save the output\n",
    "np.savetxt(\"simulated_data.txt\", np.vstack([x, y, yerr]).T)\n",
    "np.savetxt(\"best_mod_y.txt\", best_mod)"
   ]
  }
 ],
 "metadata": {
  "kernelspec": {
   "display_name": "phy3051-demo-tp1",
   "language": "python",
   "name": "phy3051-demo-tp1"
  }
 },
 "nbformat": 4,
 "nbformat_minor": 5
}
